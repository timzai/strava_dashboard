{
 "cells": [
  {
   "cell_type": "code",
   "execution_count": null,
   "metadata": {},
   "outputs": [],
   "source": [
    "import pandas as pd\n",
    "import numpy as np\n",
    "from fitparse import FitFile"
   ]
  },
  {
   "cell_type": "code",
   "execution_count": null,
   "metadata": {},
   "outputs": [],
   "source": [
    "import plotly.express as px\n",
    "from jupyter_dash import JupyterDash\n",
    "import dash_core_components as dcc\n",
    "import dash_html_components as html\n",
    "from dash.dependencies import Input, Output"
   ]
  },
  {
   "cell_type": "code",
   "execution_count": null,
   "metadata": {},
   "outputs": [],
   "source": [
    "def get_session_time(file_path):\n",
    "    \"\"\"A function to return the `time_created` field from a FIT file\n",
    "    \n",
    "    Parameters\n",
    "    ----------\n",
    "    file_path : str\n",
    "        The file location of the FIT file\n",
    "\n",
    "    Returns\n",
    "    -------\n",
    "    datetime\n",
    "        <class 'datetime.datetime'> representation of when the FIT file was created on\n",
    "    \"\"\"\n",
    "    with FitFile(open(file_path, 'rb')) as fitfile:\n",
    "        fitfile._parse_message() # parse first message as header\n",
    "        return fitfile._parse_message().get_value('time_created') # parse second message and look for `time_created`\n",
    "    return None"
   ]
  },
  {
   "cell_type": "code",
   "execution_count": null,
   "metadata": {},
   "outputs": [],
   "source": [
    "def get_sessions():\n",
    "    \"\"\"A function to return a list of FIT sessions in the data directory with its creation time.\n",
    "\n",
    "    Returns\n",
    "    -------\n",
    "    list\n",
    "        A list of tuples with the file path as first element and its creation time as the second element.\n",
    "    \"\"\"\n",
    "    datafiles = !ls data/*.fit\n",
    "    sessions = []\n",
    "    for filepath in datafiles:\n",
    "        sessions.append((filepath,get_session_time(filepath)))\n",
    "    return sessions"
   ]
  },
  {
   "cell_type": "code",
   "execution_count": null,
   "metadata": {},
   "outputs": [],
   "source": [
    "def load_session_data(file_path):\n",
    "    \"\"\"A function to return the `time_created` field from a FIT file\n",
    "    \n",
    "    Some columns are dropped and renamed. Only keep rows where heart_rate data exists.\n",
    "    Resample to 1 second frequency with interpolated values.\n",
    "    \n",
    "    Parameters\n",
    "    ----------\n",
    "    file_path : str\n",
    "        The file location of the FIT file\n",
    "\n",
    "    Returns\n",
    "    -------\n",
    "    dataframe\n",
    "        Pandas DataFrame of the FIT file\n",
    "    \"\"\"\n",
    "    with FitFile(open(file_path, 'rb')) as fitfile:\n",
    "        df = pd.DataFrame([record.get_values() for record in fitfile.get_messages('record')])\n",
    "        df.drop(columns=['unknown_87','unknown_88','unknown_90','altitude','fractional_cadence','speed'], inplace=True)\n",
    "        df.rename(columns={\"enhanced_speed\": \"speed\", \"enhanced_altitude\": \"altitude\"}, inplace=True)\n",
    "        df = df.dropna(subset=['heart_rate'])\n",
    "        df.set_index('timestamp', inplace=True)\n",
    "        df = df.resample('s').interpolate()\n",
    "        return df    "
   ]
  },
  {
   "cell_type": "code",
   "execution_count": null,
   "metadata": {},
   "outputs": [],
   "source": [
    "sessions = get_sessions()\n",
    "app = JupyterDash(__name__)\n",
    "app.layout = html.Div([\n",
    "    html.H1(\"Heart Rate Dashboard\"),\n",
    "    html.Label([\n",
    "        \"Workout Sessions\",\n",
    "        dcc.Dropdown(\n",
    "            id='sessions-dropdown', clearable=False,\n",
    "            value = sessions[0][0],\n",
    "            options=[\n",
    "                {'label': d, 'value': f}\n",
    "                for f,d in sessions\n",
    "            ])\n",
    "    ]),\n",
    "    html.Div(id='output_text', children=\"HI\"),\n",
    "])\n",
    "# Define callback to update graph\n",
    "@app.callback(\n",
    "    Output('output_text', 'children'),\n",
    "    [Input(\"sessions-dropdown\", \"value\")]\n",
    ")\n",
    "def change_session(session):\n",
    "    df = load_session_data(session)\n",
    "    return \"New session selected is {}<strong>{}</strong>\".format(session,df)\n",
    "\n",
    "# Run app and display result inline in the notebook\n",
    "app.run_server(mode='external')"
   ]
  },
  {
   "cell_type": "code",
   "execution_count": null,
   "metadata": {},
   "outputs": [],
   "source": [
    "for s in get_sessions():\n",
    "    df = load_session_data(s[0])\n",
    "    display(df)\n",
    "    break"
   ]
  },
  {
   "cell_type": "code",
   "execution_count": null,
   "metadata": {},
   "outputs": [],
   "source": []
  }
 ],
 "metadata": {
  "kernelspec": {
   "display_name": "Python 3",
   "language": "python",
   "name": "python3"
  },
  "language_info": {
   "codemirror_mode": {
    "name": "ipython",
    "version": 3
   },
   "file_extension": ".py",
   "mimetype": "text/x-python",
   "name": "python",
   "nbconvert_exporter": "python",
   "pygments_lexer": "ipython3",
   "version": "3.8.5"
  }
 },
 "nbformat": 4,
 "nbformat_minor": 4
}
